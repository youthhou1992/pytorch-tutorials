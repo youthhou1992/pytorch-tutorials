{
 "cells": [
  {
   "cell_type": "code",
   "execution_count": 1,
   "metadata": {},
   "outputs": [],
   "source": [
    "import torch\n",
    "import torch.nn as nn\n"
   ]
  },
  {
   "cell_type": "code",
   "execution_count": 2,
   "metadata": {},
   "outputs": [],
   "source": [
    "#通过add_module()添加每一层，并且为每一层添加了一个单独的名字\n",
    "class Net3(torch.nn.Module):\n",
    "    def __init__(self):\n",
    "        super(Net3, self).__init__()\n",
    "        self.conv = nn.Sequential()\n",
    "        self.conv.add_module(\"conv1\", nn.Conv2d(3, 32, 3, 1, 1))\n",
    "        self.conv.add_module(\"relu1\", nn.ReLU())\n",
    "        self.conv.add_module(\"pool1\", nn.MaxPool2d(2))\n",
    "        self.dense = nn.Sequential()\n",
    "        self.dense.add_module(\"dense1\", nn.Linear(32*3*3, 128))\n",
    "        self.dense.add_module(\"relu2\", nn.ReLU())\n",
    "        self.dense.add_module(\"dense2\", nn.Linear(128, 10))\n",
    "        \n",
    "    def forward(self, x):\n",
    "        conv_out = self.conv(x)\n",
    "        res = conv_out.view(conv_out.size(0), -1)\n",
    "        out = self.dense(res)\n",
    "        return out\n",
    "        "
   ]
  },
  {
   "cell_type": "code",
   "execution_count": 3,
   "metadata": {},
   "outputs": [
    {
     "name": "stdout",
     "output_type": "stream",
     "text": [
      "Method 3:\n",
      "Net3(\n",
      "  (conv): Sequential(\n",
      "    (conv1): Conv2d(3, 32, kernel_size=(3, 3), stride=(1, 1), padding=(1, 1))\n",
      "    (relu1): ReLU()\n",
      "    (pool1): MaxPool2d(kernel_size=2, stride=2, padding=0, dilation=1, ceil_mode=False)\n",
      "  )\n",
      "  (dense): Sequential(\n",
      "    (dense1): Linear(in_features=288, out_features=128, bias=True)\n",
      "    (relu2): ReLU()\n",
      "    (dense2): Linear(in_features=128, out_features=10, bias=True)\n",
      "  )\n",
      ")\n"
     ]
    }
   ],
   "source": [
    "print(\"Method 3:\")\n",
    "module3 = Net3()\n",
    "print(module3)"
   ]
  },
  {
   "cell_type": "code",
   "execution_count": 7,
   "metadata": {},
   "outputs": [],
   "source": [
    "#通过字典的形式添加每一层，并且为每一层设置单独的层名称\n",
    "from collections import OrderedDict\n",
    "class Net4(nn.Module):\n",
    "    def __init__(self):\n",
    "        super(Net4, self).__init__()\n",
    "        self.conv = nn.Sequential(\n",
    "            OrderedDict(\n",
    "                [\n",
    "                    (\"conv1\", nn.Conv2d(3, 32, 3, 1, 1 )),\n",
    "                    (\"relu1\", nn.ReLU()),\n",
    "                    (\"pool\", nn.MaxPool2d(2))\n",
    "                ]\n",
    "            ) )\n",
    "        self.dense = nn.Sequential(\n",
    "            OrderedDict(\n",
    "                [\n",
    "                    (\"dense1\", nn.Linear(32*3*3, 128)),\n",
    "                    (\"relu2\", nn.ReLU()),\n",
    "                    (\"dense2\", nn.Linear(128, 10))\n",
    "                ]\n",
    "            ))\n",
    "    def forward(self, x):\n",
    "        conv_out = self.conv(x)\n",
    "        res = conv_out.view(conv_out.size(0), -1)\n",
    "        out = self.dense(res)\n",
    "        return out\n"
   ]
  },
  {
   "cell_type": "code",
   "execution_count": 12,
   "metadata": {},
   "outputs": [
    {
     "name": "stdout",
     "output_type": "stream",
     "text": [
      "Module4:\n",
      "Sequential(\n",
      "  (conv1): Conv2d(3, 32, kernel_size=(3, 3), stride=(1, 1), padding=(1, 1))\n",
      "  (relu1): ReLU()\n",
      "  (pool): MaxPool2d(kernel_size=2, stride=2, padding=0, dilation=1, ceil_mode=False)\n",
      ")\n",
      "Sequential(\n",
      "  (dense1): Linear(in_features=288, out_features=128, bias=True)\n",
      "  (relu2): ReLU()\n",
      "  (dense2): Linear(in_features=128, out_features=10, bias=True)\n",
      ")\n"
     ]
    }
   ],
   "source": [
    "print(\"Module4:\")\n",
    "model4 = Net4()\n",
    "for sub_module in model4.children():\n",
    "    print(sub_module)"
   ]
  }
 ],
 "metadata": {
  "kernelspec": {
   "display_name": "Python 3",
   "language": "python",
   "name": "python3"
  },
  "language_info": {
   "codemirror_mode": {
    "name": "ipython",
    "version": 3
   },
   "file_extension": ".py",
   "mimetype": "text/x-python",
   "name": "python",
   "nbconvert_exporter": "python",
   "pygments_lexer": "ipython3",
   "version": "3.5.5"
  }
 },
 "nbformat": 4,
 "nbformat_minor": 2
}
