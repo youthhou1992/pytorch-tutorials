{
 "cells": [
  {
   "cell_type": "code",
   "execution_count": 3,
   "metadata": {},
   "outputs": [],
   "source": [
    "import torch\n",
    "import torchvision\n",
    "import torch.nn as nn\n",
    "import torchvision.transforms as transforms"
   ]
  },
  {
   "cell_type": "code",
   "execution_count": 4,
   "metadata": {},
   "outputs": [],
   "source": [
    "#torch.cuda.is_available   #检查cuda环境是否存在\n",
    "device = torch.device('cuda' if torch.cuda.is_available() else 'cpu')"
   ]
  },
  {
   "cell_type": "code",
   "execution_count": 6,
   "metadata": {},
   "outputs": [],
   "source": [
    "#超参数\n",
    "input_size = 784      #28*28\n",
    "hidden_size = 500\n",
    "num_classes = 10\n",
    "num_epochs = 5\n",
    "batch_size = 100\n",
    "learning_rate = 0.001"
   ]
  },
  {
   "cell_type": "code",
   "execution_count": 20,
   "metadata": {},
   "outputs": [],
   "source": [
    "#加载数据 MNIST\n",
    "train_dataset = torchvision.datasets.MNIST(root = '../../data',\n",
    "                                                            train = True,\n",
    "                                                            transform = transforms.ToTensor(),\n",
    "                                                            download = False)\n",
    "test_dataset = torchvision.datasets.MNIST(root = '../../data',\n",
    "                                         train = False,\n",
    "                                         transform = transforms.ToTensor())\n",
    "\n"
   ]
  },
  {
   "cell_type": "code",
   "execution_count": 21,
   "metadata": {},
   "outputs": [],
   "source": [
    "#数据下载器，加载数据\n",
    "train_loader = torch.utils.data.DataLoader(dataset = train_dataset,\n",
    "                                          batch_size = batch_size,\n",
    "                                          shuffle = True)\n",
    "test_loader = torch.utils.data.DataLoader(dataset = test_dataset,\n",
    "                                         batch_size = batch_size,\n",
    "                                         shuffle = False)"
   ]
  },
  {
   "cell_type": "code",
   "execution_count": 7,
   "metadata": {},
   "outputs": [],
   "source": [
    "#包含一个隐藏层的全连接网络\n",
    "class NeuralNet(nn.Module):\n",
    "    def __init__(self, input_size, hidden_size, num_classes):\n",
    "        super(NeuralNet, self).__init__()\n",
    "        self.fc1 = nn.Linear(input_size, hidden_size)\n",
    "        self.relu = nn.ReLU()\n",
    "        self.fc2 = nn.Linear(hidden_size, num_classes)\n",
    "        \n",
    "    def forward(self, x):\n",
    "        out = self.fc1(x)\n",
    "        out = self.relu(out)\n",
    "        out = self.fc2(out)\n",
    "        return out"
   ]
  },
  {
   "cell_type": "code",
   "execution_count": 12,
   "metadata": {},
   "outputs": [],
   "source": [
    "model = NeuralNet(input_size, hidden_size, num_classes)"
   ]
  },
  {
   "cell_type": "code",
   "execution_count": 13,
   "metadata": {},
   "outputs": [],
   "source": [
    "#实例化一个损失函数对象\n",
    "criterion = nn.CrossEntropyLoss()\n",
    "\n",
    "#实例化一个优化器对象\n",
    "optimizer = torch.optim.Adam(model.parameters(), lr = learning_rate)"
   ]
  },
  {
   "cell_type": "code",
   "execution_count": 14,
   "metadata": {},
   "outputs": [
    {
     "name": "stdout",
     "output_type": "stream",
     "text": [
      "Epoch [1/5], Step [100/600], Loss: 0.4087\n",
      "Epoch [1/5], Step [200/600], Loss: 0.2693\n",
      "Epoch [1/5], Step [300/600], Loss: 0.1944\n",
      "Epoch [1/5], Step [400/600], Loss: 0.1634\n",
      "Epoch [1/5], Step [500/600], Loss: 0.1741\n",
      "Epoch [1/5], Step [600/600], Loss: 0.2396\n",
      "Epoch [2/5], Step [100/600], Loss: 0.1160\n",
      "Epoch [2/5], Step [200/600], Loss: 0.1064\n",
      "Epoch [2/5], Step [300/600], Loss: 0.0966\n",
      "Epoch [2/5], Step [400/600], Loss: 0.2069\n",
      "Epoch [2/5], Step [500/600], Loss: 0.0622\n",
      "Epoch [2/5], Step [600/600], Loss: 0.0832\n",
      "Epoch [3/5], Step [100/600], Loss: 0.1221\n",
      "Epoch [3/5], Step [200/600], Loss: 0.0393\n",
      "Epoch [3/5], Step [300/600], Loss: 0.0375\n",
      "Epoch [3/5], Step [400/600], Loss: 0.0627\n",
      "Epoch [3/5], Step [500/600], Loss: 0.0725\n",
      "Epoch [3/5], Step [600/600], Loss: 0.1683\n",
      "Epoch [4/5], Step [100/600], Loss: 0.0671\n",
      "Epoch [4/5], Step [200/600], Loss: 0.0209\n",
      "Epoch [4/5], Step [300/600], Loss: 0.0954\n",
      "Epoch [4/5], Step [400/600], Loss: 0.0452\n",
      "Epoch [4/5], Step [500/600], Loss: 0.0365\n",
      "Epoch [4/5], Step [600/600], Loss: 0.0366\n",
      "Epoch [5/5], Step [100/600], Loss: 0.0304\n",
      "Epoch [5/5], Step [200/600], Loss: 0.0177\n",
      "Epoch [5/5], Step [300/600], Loss: 0.1130\n",
      "Epoch [5/5], Step [400/600], Loss: 0.0430\n",
      "Epoch [5/5], Step [500/600], Loss: 0.0301\n",
      "Epoch [5/5], Step [600/600], Loss: 0.0303\n"
     ]
    }
   ],
   "source": [
    "#训练模型\n",
    "total_step = len(train_loader)   #计算总共有多少个batch\n",
    "for epoch in range(num_epochs):\n",
    "    for i, (images, labels) in enumerate(train_loader):\n",
    "        #将张量移动到设置好的设备中去（cpu或gpu）\n",
    "        images = images.reshape(-1, 28*28).to(device)\n",
    "        labels = labels.to(device)\n",
    "        \n",
    "        #前向\n",
    "        outputs = model(images)\n",
    "        loss = criterion(outputs, labels)\n",
    "        \n",
    "        #后向，优化\n",
    "        optimizer.zero_grad()  #梯度清零\n",
    "        loss.backward()\n",
    "        optimizer.step()\n",
    "        \n",
    "        if (i + 1)%100 == 0:\n",
    "            print('Epoch [{}/{}], Step [{}/{}], Loss: {:.4f}'\n",
    "                  .format(epoch +1, num_epochs, i+1, total_step, loss.item()))\n",
    "            \n",
    "        \n"
   ]
  },
  {
   "cell_type": "code",
   "execution_count": 22,
   "metadata": {},
   "outputs": [
    {
     "name": "stdout",
     "output_type": "stream",
     "text": [
      "Accuracy of the network on the 10000 test images:97.85%\n"
     ]
    }
   ],
   "source": [
    "#测试模型，在测试阶段，不需要计算和更新梯度（节省内存消耗）\n",
    "with torch.no_grad():\n",
    "    correct = 0\n",
    "    total = 0\n",
    "    for images, labels in test_loader:\n",
    "        images = images.reshape(-1, 28*28).to(device)\n",
    "        labels = labels.to(device)\n",
    "        outputs = model(images)\n",
    "        _, predicted = torch.max(outputs.data, 1)\n",
    "        total += labels.size(0)\n",
    "        correct += (predicted == labels).sum().item()\n",
    "    print ('Accuracy of the network on the 10000 test images:{}%'.format(100*correct / total))\n",
    "    \n",
    "    "
   ]
  },
  {
   "cell_type": "code",
   "execution_count": 17,
   "metadata": {},
   "outputs": [],
   "source": [
    "#保存模型\n",
    "torch.save(model.state_dict(), 'model.ckpt')"
   ]
  }
 ],
 "metadata": {
  "kernelspec": {
   "display_name": "Python 3",
   "language": "python",
   "name": "python3"
  },
  "language_info": {
   "codemirror_mode": {
    "name": "ipython",
    "version": 3
   },
   "file_extension": ".py",
   "mimetype": "text/x-python",
   "name": "python",
   "nbconvert_exporter": "python",
   "pygments_lexer": "ipython3",
   "version": "3.5.5"
  }
 },
 "nbformat": 4,
 "nbformat_minor": 2
}
