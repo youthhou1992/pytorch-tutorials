{
 "cells": [
  {
   "cell_type": "code",
   "execution_count": 2,
   "metadata": {},
   "outputs": [],
   "source": [
    "import torch\n",
    "import torch.nn as nn\n",
    "import torchvision\n",
    "import torchvision.transforms as transforms"
   ]
  },
  {
   "cell_type": "code",
   "execution_count": 3,
   "metadata": {},
   "outputs": [],
   "source": [
    "device = torch.device('cuda:0' if  torch.cuda.is_available() else 'cpu')"
   ]
  },
  {
   "cell_type": "code",
   "execution_count": 4,
   "metadata": {},
   "outputs": [],
   "source": [
    "num_epochs = 5\n",
    "num_classes = 10\n",
    "batch_size = 100\n",
    "learnning_rate = 0.001"
   ]
  },
  {
   "cell_type": "code",
   "execution_count": 7,
   "metadata": {},
   "outputs": [],
   "source": [
    "train_dataset = torchvision.datasets.MNIST(root = '../../data/',\n",
    "                                          train = True,\n",
    "                                          transform = transforms.ToTensor())\n",
    "test_dataset = torchvision.datasets.MNIST(root = '../../data/',\n",
    "                                         train = False,\n",
    "                                         transform= transforms.ToTensor())"
   ]
  },
  {
   "cell_type": "code",
   "execution_count": 14,
   "metadata": {},
   "outputs": [],
   "source": [
    "train_loader = torch.utils.data.DataLoader(dataset = train_dataset,\n",
    "                                          batch_size = batch_size,\n",
    "                                          shuffle = True)\n",
    "test_loader = torch.utils.data.DataLoader(dataset = test_dataset,\n",
    "                                         batch_size = batch_size,\n",
    "                                         shuffle = False)"
   ]
  },
  {
   "cell_type": "code",
   "execution_count": 17,
   "metadata": {},
   "outputs": [],
   "source": [
    "class ConvNet(nn.Module):\n",
    "    def __init__(self, num_classes = 10):\n",
    "        super(ConvNet, self).__init__()\n",
    "        self.layer1 = nn.Sequential(\n",
    "            nn.Conv2d(1, 16, kernel_size=5, stride=1, padding=2),\n",
    "            nn.BatchNorm2d(16),\n",
    "            nn.ReLU(),\n",
    "            nn.MaxPool2d(kernel_size=2, stride=2))\n",
    "        self.layer2 = nn.Sequential(\n",
    "            nn.Conv2d(16, 32, kernel_size=5, stride=1, padding=2),\n",
    "            nn.BatchNorm2d(32),\n",
    "            nn.ReLU(),\n",
    "            nn.MaxPool2d(kernel_size=2, stride=2))\n",
    "        self.fc = nn.Linear(7*7*32, num_classes)\n",
    "    def forward(self, x):\n",
    "        out = self.layer1(x)\n",
    "        out = self.layer2(out)\n",
    "        out = out.reshape(out.size(0), -1)\n",
    "        out = self.fc(out)\n",
    "        return out"
   ]
  },
  {
   "cell_type": "code",
   "execution_count": 19,
   "metadata": {},
   "outputs": [],
   "source": [
    "model = ConvNet(num_classes).to(device)\n"
   ]
  },
  {
   "cell_type": "code",
   "execution_count": 21,
   "metadata": {},
   "outputs": [],
   "source": [
    "criterion = nn.CrossEntropyLoss()\n",
    "optimizer = torch.optim.Adam(model.parameters(), lr = learnning_rate)"
   ]
  },
  {
   "cell_type": "code",
   "execution_count": 23,
   "metadata": {},
   "outputs": [
    {
     "name": "stdout",
     "output_type": "stream",
     "text": [
      "Epoch [1/5], Step [100/600], Loss: 0.0060\n",
      "Epoch [1/5], Step [200/600], Loss: 0.0014\n",
      "Epoch [1/5], Step [300/600], Loss: 0.0259\n",
      "Epoch [1/5], Step [400/600], Loss: 0.0344\n",
      "Epoch [1/5], Step [500/600], Loss: 0.0051\n",
      "Epoch [1/5], Step [600/600], Loss: 0.0102\n",
      "Epoch [2/5], Step [100/600], Loss: 0.0051\n",
      "Epoch [2/5], Step [200/600], Loss: 0.0077\n",
      "Epoch [2/5], Step [300/600], Loss: 0.0065\n",
      "Epoch [2/5], Step [400/600], Loss: 0.0087\n",
      "Epoch [2/5], Step [500/600], Loss: 0.0042\n",
      "Epoch [2/5], Step [600/600], Loss: 0.0954\n",
      "Epoch [3/5], Step [100/600], Loss: 0.0273\n",
      "Epoch [3/5], Step [200/600], Loss: 0.0165\n",
      "Epoch [3/5], Step [300/600], Loss: 0.0702\n",
      "Epoch [3/5], Step [400/600], Loss: 0.0128\n",
      "Epoch [3/5], Step [500/600], Loss: 0.0047\n",
      "Epoch [3/5], Step [600/600], Loss: 0.0132\n",
      "Epoch [4/5], Step [100/600], Loss: 0.0029\n",
      "Epoch [4/5], Step [200/600], Loss: 0.0307\n",
      "Epoch [4/5], Step [300/600], Loss: 0.0039\n",
      "Epoch [4/5], Step [400/600], Loss: 0.0057\n",
      "Epoch [4/5], Step [500/600], Loss: 0.0052\n",
      "Epoch [4/5], Step [600/600], Loss: 0.0072\n",
      "Epoch [5/5], Step [100/600], Loss: 0.0076\n",
      "Epoch [5/5], Step [200/600], Loss: 0.0105\n",
      "Epoch [5/5], Step [300/600], Loss: 0.0092\n",
      "Epoch [5/5], Step [400/600], Loss: 0.0016\n",
      "Epoch [5/5], Step [500/600], Loss: 0.0033\n",
      "Epoch [5/5], Step [600/600], Loss: 0.0021\n"
     ]
    }
   ],
   "source": [
    "total_step = len(train_loader)\n",
    "for epoch in range(num_epochs):\n",
    "    for i, (images, labels) in enumerate(train_loader):\n",
    "        images = images.to(device)\n",
    "        labels = labels.to(device)\n",
    "        outputs = model(images)\n",
    "        loss = criterion(outputs, labels)\n",
    "        optimizer.zero_grad()\n",
    "        loss.backward()\n",
    "        optimizer.step()\n",
    "        if (i +1)%100 == 0:\n",
    "            print ('Epoch [{}/{}], Step [{}/{}], Loss: {:.4f}' \n",
    "                   .format(epoch+1, num_epochs, i+1, total_step, loss.item()))"
   ]
  },
  {
   "cell_type": "code",
   "execution_count": 25,
   "metadata": {},
   "outputs": [
    {
     "name": "stdout",
     "output_type": "stream",
     "text": [
      "Test Accuracy of the model on the 10000 test images: 99.17 %\n"
     ]
    }
   ],
   "source": [
    "model.eval()  #eval mode(batch_norm uses moving mean/variance instead of mini-batch mean/variance)\n",
    "with torch.no_grad():\n",
    "    correct = 0\n",
    "    total = 0\n",
    "    for images, labels in test_loader:\n",
    "        images = images.to(device)\n",
    "        labels = labels.to(device)\n",
    "        outputs = model(images)\n",
    "        _, predicted = torch.max(outputs.data, 1)\n",
    "        total += labels.size(0)\n",
    "        correct += (predicted == labels).sum().item()\n",
    "    print('Test Accuracy of the model on the 10000 test images: {} %'.format(100 * correct / total))"
   ]
  },
  {
   "cell_type": "code",
   "execution_count": null,
   "metadata": {},
   "outputs": [],
   "source": [
    "torch.save(model.state_dict(), 'cn')"
   ]
  }
 ],
 "metadata": {
  "kernelspec": {
   "display_name": "Python 3",
   "language": "python",
   "name": "python3"
  },
  "language_info": {
   "codemirror_mode": {
    "name": "ipython",
    "version": 3
   },
   "file_extension": ".py",
   "mimetype": "text/x-python",
   "name": "python",
   "nbconvert_exporter": "python",
   "pygments_lexer": "ipython3",
   "version": "3.5.5"
  }
 },
 "nbformat": 4,
 "nbformat_minor": 2
}
